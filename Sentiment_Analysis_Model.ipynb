{
 "cells": [
  {
   "cell_type": "code",
   "execution_count": 1,
   "id": "cf14573b-5548-45ff-ba05-c9edc0adbb3f",
   "metadata": {},
   "outputs": [],
   "source": [
    "import pandas as pd\n",
    "import numpy as np\n",
    "import nltk\n",
    "from nltk.sentiment.vader import SentimentIntensityAnalyzer\n",
    "import matplotlib.pyplot as plt\n",
    "import seaborn as sns\n",
    "from wordcloud import WordCloud\n",
    "from sklearn.model_selection import train_test_split\n",
    "from sklearn.feature_extraction.text import TfidfVectorizer\n",
    "from sklearn.linear_model import LogisticRegression\n",
    "from sklearn.metrics import classification_report, confusion_matrix, accuracy_score"
   ]
  },
  {
   "cell_type": "code",
   "execution_count": 2,
   "id": "8f9a4f92-68e3-49d9-9fc9-1524cbcd14f5",
   "metadata": {},
   "outputs": [
    {
     "data": {
      "text/html": [
       "<div>\n",
       "<style scoped>\n",
       "    .dataframe tbody tr th:only-of-type {\n",
       "        vertical-align: middle;\n",
       "    }\n",
       "\n",
       "    .dataframe tbody tr th {\n",
       "        vertical-align: top;\n",
       "    }\n",
       "\n",
       "    .dataframe thead th {\n",
       "        text-align: right;\n",
       "    }\n",
       "</style>\n",
       "<table border=\"1\" class=\"dataframe\">\n",
       "  <thead>\n",
       "    <tr style=\"text-align: right;\">\n",
       "      <th></th>\n",
       "      <th>label</th>\n",
       "      <th>text</th>\n",
       "      <th>Sentiment</th>\n",
       "    </tr>\n",
       "  </thead>\n",
       "  <tbody>\n",
       "    <tr>\n",
       "      <th>0</th>\n",
       "      <td>__label__2</td>\n",
       "      <td>Stuning even for the non-gamer: This sound tra...</td>\n",
       "      <td>Positive</td>\n",
       "    </tr>\n",
       "    <tr>\n",
       "      <th>1</th>\n",
       "      <td>__label__2</td>\n",
       "      <td>The best soundtrack ever to anything.: I'm rea...</td>\n",
       "      <td>Positive</td>\n",
       "    </tr>\n",
       "    <tr>\n",
       "      <th>2</th>\n",
       "      <td>__label__2</td>\n",
       "      <td>Amazing!: This soundtrack is my favorite music...</td>\n",
       "      <td>Positive</td>\n",
       "    </tr>\n",
       "    <tr>\n",
       "      <th>3</th>\n",
       "      <td>__label__2</td>\n",
       "      <td>Excellent Soundtrack: I truly like this soundt...</td>\n",
       "      <td>Positive</td>\n",
       "    </tr>\n",
       "    <tr>\n",
       "      <th>4</th>\n",
       "      <td>__label__2</td>\n",
       "      <td>Remember, Pull Your Jaw Off The Floor After He...</td>\n",
       "      <td>Positive</td>\n",
       "    </tr>\n",
       "  </tbody>\n",
       "</table>\n",
       "</div>"
      ],
      "text/plain": [
       "        label                                               text Sentiment\n",
       "0  __label__2  Stuning even for the non-gamer: This sound tra...  Positive\n",
       "1  __label__2  The best soundtrack ever to anything.: I'm rea...  Positive\n",
       "2  __label__2  Amazing!: This soundtrack is my favorite music...  Positive\n",
       "3  __label__2  Excellent Soundtrack: I truly like this soundt...  Positive\n",
       "4  __label__2  Remember, Pull Your Jaw Off The Floor After He...  Positive"
      ]
     },
     "execution_count": 2,
     "metadata": {},
     "output_type": "execute_result"
    }
   ],
   "source": [
    "file_path = r'C:\\Users\\User\\BA Projects\\Sentiment-Analysis-Amazon\\Data\\train.ft.txt\\train.ft.txt'\n",
    "with open(file_path, 'r', encoding='utf-8') as file:\n",
    "    lines = file.readlines()\n",
    "\n",
    "data = []\n",
    "for line in lines:\n",
    "    parts = line.strip().split(' ',1)\n",
    "    if len(parts) == 2:\n",
    "        label, text = parts\n",
    "        data.append((label, text))\n",
    "\n",
    "df = pd.DataFrame(data, columns=['label', 'text'])\n",
    "\n",
    "df['Sentiment'] = df['label'].apply(lambda x: int(x.replace('__label__','')))\n",
    "df['Sentiment'] = df['Sentiment'].map({1: 'Negative', 2: 'Positive'})\n",
    "\n",
    "df.head()"
   ]
  },
  {
   "cell_type": "code",
   "execution_count": 3,
   "id": "5ffaaf20-e3fa-4352-8e31-1f76c962f4c8",
   "metadata": {},
   "outputs": [
    {
     "name": "stdout",
     "output_type": "stream",
     "text": [
      "Shape (3600000, 3)\n",
      "nData Tyes:\n",
      " label        object\n",
      "text         object\n",
      "Sentiment    object\n",
      "dtype: object\n"
     ]
    }
   ],
   "source": [
    "print(\"Shape\", df.shape)\n",
    "print(\"nData Tyes:\\n\", df.dtypes)"
   ]
  },
  {
   "cell_type": "code",
   "execution_count": 4,
   "id": "dd4d68ec-b16a-417a-8e81-af2d2bc4132a",
   "metadata": {},
   "outputs": [
    {
     "name": "stdout",
     "output_type": "stream",
     "text": [
      "\n",
      "Class Distribution:\n",
      " Sentiment\n",
      "Positive    1800000\n",
      "Negative    1800000\n",
      "Name: count, dtype: int64\n"
     ]
    }
   ],
   "source": [
    "print(\"\\nClass Distribution:\\n\", df['Sentiment'].value_counts())"
   ]
  },
  {
   "cell_type": "code",
   "execution_count": 5,
   "id": "909c4678-cb7e-4d4e-af84-1bf657bd6da8",
   "metadata": {},
   "outputs": [
    {
     "name": "stdout",
     "output_type": "stream",
     "text": [
      "\n",
      "Missing Values:\n",
      " label        0\n",
      "text         0\n",
      "Sentiment    0\n",
      "dtype: int64\n"
     ]
    }
   ],
   "source": [
    "print(\"\\nMissing Values:\\n\", df.isnull().sum())"
   ]
  },
  {
   "cell_type": "code",
   "execution_count": 6,
   "id": "14fb6321-2014-4c65-9ea6-1391387e8d61",
   "metadata": {},
   "outputs": [
    {
     "data": {
      "image/png": "[encoded data removed]",
      "text/plain": [
       "<Figure size 640x480 with 1 Axes>"
      ]
     },
     "metadata": {},
     "output_type": "display_data"
    }
   ],
   "source": [
    "sns.countplot(data=df, x='Sentiment')\n",
    "plt.title(\"Distribution of Sentiments\")\n",
    "plt.show()"
   ]
  },
  {
   "cell_type": "code",
   "execution_count": 7,
   "id": "8b1b4e27-1ff8-4c4f-b624-1870828719e0",
   "metadata": {},
   "outputs": [],
   "source": [
    "df_sample = df.sample(n=50000,  random_state=42)\n",
    "X_train, X_test, y_train, y_test = train_test_split(\n",
    "    df['text'], df['Sentiment'], test_size=0.2, random_state=42, stratify=df['Sentiment'])\n",
    "vectorizer = TfidfVectorizer(\n",
    "    max_features=3000,\n",
    "    stop_words='english',\n",
    "    ngram_range=(1,1))\n",
    "\n",
    "X_train_tfidf = vectorizer.fit_transform(X_train)\n",
    "X_test_tfidf = vectorizer.transform(X_test)"
   ]
  },
  {
   "cell_type": "code",
   "execution_count": 9,
   "id": "1457e528-4d24-4c55-9031-4889e1982687",
   "metadata": {},
   "outputs": [
    {
     "name": "stdout",
     "output_type": "stream",
     "text": [
      "Accuracy 0.8814972222222223\n",
      "\n",
      "Classification Report:\n",
      "               precision    recall  f1-score   support\n",
      "\n",
      "    Negative       0.88      0.88      0.88    360000\n",
      "    Positive       0.88      0.89      0.88    360000\n",
      "\n",
      "    accuracy                           0.88    720000\n",
      "   macro avg       0.88      0.88      0.88    720000\n",
      "weighted avg       0.88      0.88      0.88    720000\n",
      "\n",
      "\n",
      "Confusion Matrix:\n",
      " [[315814  44186]\n",
      " [ 41136 318864]]\n"
     ]
    }
   ],
   "source": [
    "model = LogisticRegression(max_iter=1000)\n",
    "model.fit(X_train_tfidf, y_train)\n",
    "y_pred = model.predict(X_test_tfidf)\n",
    "\n",
    "print(\"Accuracy\", accuracy_score(y_test,y_pred))\n",
    "print(\"\\nClassification Report:\\n\", classification_report(y_test, y_pred))\n",
    "print(\"\\nConfusion Matrix:\\n\", confusion_matrix(y_test, y_pred))"
   ]
  },
  {
   "cell_type": "code",
   "execution_count": 15,
   "id": "7f791d26-21cc-4189-98d7-5c05262e1f4f",
   "metadata": {},
   "outputs": [],
   "source": [
    "def predict_sentiment(text):\n",
    "    text_tfidf = vectorizer.transform([text])\n",
    "    pred = model.predict(text_tfidf)[0]\n",
    "    return pred"
   ]
  },
  {
   "cell_type": "code",
   "execution_count": 19,
   "id": "ca1cddf5-9324-4afc-a5d2-89c129b995be",
   "metadata": {},
   "outputs": [
    {
     "name": "stdout",
     "output_type": "stream",
     "text": [
      "Positive\n",
      "Negative\n",
      "Negative\n"
     ]
    }
   ],
   "source": [
    "print(predict_sentiment(\"This product is absoluey mazing, I love it!\"))\n",
    "print(predict_sentiment(\"Meh, it's ok I guess.\"))\n",
    "print(predict_sentiment(\"I can't even be mad. It sucked that bad.\"))"
   ]
  },
  {
   "cell_type": "code",
   "execution_count": null,
   "id": "362b3a56-605a-450f-96c4-5184a3163ecf",
   "metadata": {},
   "outputs": [],
   "source": []
  }
 ],
 "metadata": {
  "kernelspec": {
   "display_name": "Python [conda env:base] *",
   "language": "python",
   "name": "conda-base-py"
  },
  "language_info": {
   "codemirror_mode": {
    "name": "ipython",
    "version": 3
   },
   "file_extension": ".py",
   "mimetype": "text/x-python",
   "name": "python",
   "nbconvert_exporter": "python",
   "pygments_lexer": "ipython3",
   "version": "3.12.7"
  }
 },
 "nbformat": 4,
 "nbformat_minor": 5
}
